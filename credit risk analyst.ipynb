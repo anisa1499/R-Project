{
 "cells": [
  {
   "attachments": {},
   "cell_type": "markdown",
   "id": "0ce47418",
   "metadata": {},
   "source": [
    "# Credit Risk Analyst"
   ]
  },
  {
   "cell_type": "code",
   "execution_count": 1,
   "id": "24387600",
   "metadata": {},
   "outputs": [],
   "source": [
    "library(\"openxlsx\")\n",
    "library(\"C50\")"
   ]
  },
  {
   "cell_type": "code",
   "execution_count": 2,
   "id": "a21911dd",
   "metadata": {},
   "outputs": [],
   "source": [
    "#Mempersiapkan data\n",
    "dataCreditRating <- read.xlsx(xlsxFile = \"https://storage.googleapis.com/dqlab-dataset/credit_scoring_dqlab.xlsx\")"
   ]
  },
  {
   "cell_type": "code",
   "execution_count": 3,
   "id": "7afc41b1",
   "metadata": {},
   "outputs": [],
   "source": [
    "#Mempersiapkan class dan input variables \n",
    "dataCreditRating$risk_rating <- as.factor(dataCreditRating$risk_rating) \n",
    "input_columns <- c(\"durasi_pinjaman_bulan\", \"jumlah_tanggungan\")\n",
    "datafeed <- dataCreditRating[ , input_columns ]"
   ]
  },
  {
   "cell_type": "code",
   "execution_count": 4,
   "id": "563a24bf",
   "metadata": {},
   "outputs": [],
   "source": [
    "#Mempersiapkan training dan testing set\n",
    "set.seed(100) #untuk menyeragamkan hasil random antar tiap komputer\n",
    "indeks_training_set <- sample(900, 800)"
   ]
  },
  {
   "cell_type": "code",
   "execution_count": 5,
   "id": "28586f3a",
   "metadata": {},
   "outputs": [],
   "source": [
    "#Membuat dan menampilkan training set dan testing set\n",
    "input_training_set <- datafeed[indeks_training_set,]\n",
    "class_training_set <- dataCreditRating[indeks_training_set,]$risk_rating\n",
    "input_testing_set <- datafeed[-indeks_training_set,]"
   ]
  },
  {
   "cell_type": "code",
   "execution_count": 11,
   "id": "13e89958",
   "metadata": {},
   "outputs": [
    {
     "data": {
      "text/plain": [
       "\n",
       "Call:\n",
       "C5.0.default(x = input_training_set, y = class_training_set)\n",
       "\n",
       "\n",
       "C5.0 [Release 2.07 GPL Edition]  \tWed Jun 15 21:15:52 2022\n",
       "-------------------------------\n",
       "\n",
       "Class specified by attribute `outcome'\n",
       "\n",
       "Read 800 cases (3 attributes) from undefined.data\n",
       "\n",
       "Decision tree:\n",
       "\n",
       "jumlah_tanggungan > 4:\n",
       ":...durasi_pinjaman_bulan <= 24: 4 (105/30)\n",
       ":   durasi_pinjaman_bulan > 24: 5 (120/51)\n",
       "jumlah_tanggungan <= 4:\n",
       ":...jumlah_tanggungan > 2: 3 (216/20)\n",
       "    jumlah_tanggungan <= 2:\n",
       "    :...durasi_pinjaman_bulan <= 36: 1 (264/80)\n",
       "        durasi_pinjaman_bulan > 36:\n",
       "        :...jumlah_tanggungan <= 0: 2 (37/7)\n",
       "            jumlah_tanggungan > 0: 3 (58/4)\n",
       "\n",
       "\n",
       "Evaluation on training data (800 cases):\n",
       "\n",
       "\t    Decision Tree   \n",
       "\t  ----------------  \n",
       "\t  Size      Errors  \n",
       "\n",
       "\t     6  192(24.0%)   <<\n",
       "\n",
       "\n",
       "\t   (a)   (b)   (c)   (d)   (e)    <-classified as\n",
       "\t  ----  ----  ----  ----  ----\n",
       "\t   184     2     5     6     6    (a): class 1\n",
       "\t    80    30    19     6    11    (b): class 2\n",
       "\t           3   250                (c): class 3\n",
       "\t           2          75    34    (d): class 4\n",
       "\t                      18    69    (e): class 5\n",
       "\n",
       "\n",
       "\tAttribute usage:\n",
       "\n",
       "\t100.00%\tjumlah_tanggungan\n",
       "\t 73.00%\tdurasi_pinjaman_bulan\n",
       "\n",
       "\n",
       "Time: 0.0 secs\n"
      ]
     },
     "metadata": {},
     "output_type": "display_data"
    },
    {
     "data": {
      "image/png": "[encoded data removed]",
      "text/plain": [
       "plot without title"
      ]
     },
     "metadata": {
      "image/png": {
       "height": 420,
       "width": 420
      }
     },
     "output_type": "display_data"
    }
   ],
   "source": [
    "#menghasilkan dan menampilkan summary model\n",
    "risk_rating_model <- C5.0(input_training_set, class_training_set)\n",
    "summary(risk_rating_model)\n",
    "\n",
    "\n",
    "plot(risk_rating_model)\n"
   ]
  },
  {
   "cell_type": "code",
   "execution_count": 7,
   "id": "7aa03ccb",
   "metadata": {},
   "outputs": [],
   "source": [
    "#Membuat data frame aplikasi baru\n",
    "aplikasi_baru <- data.frame(jumlah_tanggungan = 6, durasi_pinjaman_bulan = 64)"
   ]
  },
  {
   "cell_type": "code",
   "execution_count": 8,
   "id": "960bb99b",
   "metadata": {},
   "outputs": [
    {
     "data": {
      "text/html": [
       "5\n",
       "<details>\n",
       "\t<summary style=display:list-item;cursor:pointer>\n",
       "\t\t<strong>Levels</strong>:\n",
       "\t</summary>\n",
       "\t<style>\n",
       "\t.list-inline {list-style: none; margin:0; padding: 0}\n",
       "\t.list-inline>li {display: inline-block}\n",
       "\t.list-inline>li:not(:last-child)::after {content: \"\\00b7\"; padding: 0 .5ex}\n",
       "\t</style>\n",
       "\t<ol class=list-inline><li>'1'</li><li>'2'</li><li>'3'</li><li>'4'</li><li>'5'</li></ol>\n",
       "</details>"
      ],
      "text/latex": [
       "5\n",
       "\\emph{Levels}: \\begin{enumerate*}\n",
       "\\item '1'\n",
       "\\item '2'\n",
       "\\item '3'\n",
       "\\item '4'\n",
       "\\item '5'\n",
       "\\end{enumerate*}\n"
      ],
      "text/markdown": [
       "5\n",
       "**Levels**: 1. '1'\n",
       "2. '2'\n",
       "3. '3'\n",
       "4. '4'\n",
       "5. '5'\n",
       "\n",
       "\n"
      ],
      "text/plain": [
       "[1] 5\n",
       "Levels: 1 2 3 4 5"
      ]
     },
     "metadata": {},
     "output_type": "display_data"
    }
   ],
   "source": [
    "#melakukan prediksi\n",
    "predict(risk_rating_model, aplikasi_baru)"
   ]
  },
  {
   "cell_type": "code",
   "execution_count": null,
   "id": "bedf9082",
   "metadata": {},
   "outputs": [],
   "source": [
    "# RESULT : Jika durasi pinjaman sampai dgn 64 bulan, maka risk ratingnya adalah 4"
   ]
  }
 ],
 "metadata": {
  "kernelspec": {
   "display_name": "R",
   "language": "R",
   "name": "ir"
  },
  "language_info": {
   "codemirror_mode": "r",
   "file_extension": ".r",
   "mimetype": "text/x-r-source",
   "name": "R",
   "pygments_lexer": "r",
   "version": "4.2.0"
  }
 },
 "nbformat": 4,
 "nbformat_minor": 5
}

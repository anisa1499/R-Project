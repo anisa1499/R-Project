{
 "cells": [
  {
   "cell_type": "markdown",
   "id": "b7378890",
   "metadata": {},
   "source": [
    "# Customer Segmentation"
   ]
  },
  {
   "cell_type": "code",
   "execution_count": 13,
   "id": "eb7ce03c",
   "metadata": {},
   "outputs": [
    {
     "data": {
      "text/html": [
       "<table class=\"dataframe\">\n",
       "<caption>A data.frame: 5 × 11</caption>\n",
       "<thead>\n",
       "\t<tr><th></th><th scope=col>Customer_ID</th><th scope=col>Nama.Pelanggan</th><th scope=col>Jenis.Kelamin</th><th scope=col>Umur</th><th scope=col>Profesi</th><th scope=col>Tipe.Residen</th><th scope=col>NilaiBelanjaSetahun</th><th scope=col>Jenis.Kelamin.1</th><th scope=col>Profesi.1</th><th scope=col>Tipe.Residen.1</th><th scope=col>cluster</th></tr>\n",
       "\t<tr><th></th><th scope=col>&lt;chr&gt;</th><th scope=col>&lt;chr&gt;</th><th scope=col>&lt;chr&gt;</th><th scope=col>&lt;int&gt;</th><th scope=col>&lt;chr&gt;</th><th scope=col>&lt;chr&gt;</th><th scope=col>&lt;dbl&gt;</th><th scope=col>&lt;int&gt;</th><th scope=col>&lt;int&gt;</th><th scope=col>&lt;int&gt;</th><th scope=col>&lt;int&gt;</th></tr>\n",
       "</thead>\n",
       "<tbody>\n",
       "\t<tr><th scope=row>1</th><td>CUST-001</td><td>Budi Anggara  </td><td>Pria  </td><td>58</td><td>Wiraswasta      </td><td>Sector </td><td>9.497927</td><td>1</td><td>5</td><td>2</td><td>1</td></tr>\n",
       "\t<tr><th scope=row>7</th><td>CUST-007</td><td>Cahyono, Agus </td><td>Pria  </td><td>64</td><td>Wiraswasta      </td><td>Sector </td><td>9.837260</td><td>1</td><td>5</td><td>2</td><td>1</td></tr>\n",
       "\t<tr><th scope=row>13</th><td>CUST-013</td><td>Cahaya Putri  </td><td>Wanita</td><td>64</td><td>Wiraswasta      </td><td>Cluster</td><td>9.333168</td><td>2</td><td>5</td><td>1</td><td>1</td></tr>\n",
       "\t<tr><th scope=row>14</th><td>CUST-014</td><td>Mario Setiawan</td><td>Pria  </td><td>60</td><td>Wiraswasta      </td><td>Cluster</td><td>9.471615</td><td>1</td><td>5</td><td>1</td><td>1</td></tr>\n",
       "\t<tr><th scope=row>18</th><td>CUST-018</td><td>Nelly Halim   </td><td>Wanita</td><td>63</td><td>Ibu Rumah Tangga</td><td>Cluster</td><td>5.340690</td><td>2</td><td>1</td><td>1</td><td>1</td></tr>\n",
       "</tbody>\n",
       "</table>\n"
      ],
      "text/latex": [
       "A data.frame: 5 × 11\n",
       "\\begin{tabular}{r|lllllllllll}\n",
       "  & Customer\\_ID & Nama.Pelanggan & Jenis.Kelamin & Umur & Profesi & Tipe.Residen & NilaiBelanjaSetahun & Jenis.Kelamin.1 & Profesi.1 & Tipe.Residen.1 & cluster\\\\\n",
       "  & <chr> & <chr> & <chr> & <int> & <chr> & <chr> & <dbl> & <int> & <int> & <int> & <int>\\\\\n",
       "\\hline\n",
       "\t1 & CUST-001 & Budi Anggara   & Pria   & 58 & Wiraswasta       & Sector  & 9.497927 & 1 & 5 & 2 & 1\\\\\n",
       "\t7 & CUST-007 & Cahyono, Agus  & Pria   & 64 & Wiraswasta       & Sector  & 9.837260 & 1 & 5 & 2 & 1\\\\\n",
       "\t13 & CUST-013 & Cahaya Putri   & Wanita & 64 & Wiraswasta       & Cluster & 9.333168 & 2 & 5 & 1 & 1\\\\\n",
       "\t14 & CUST-014 & Mario Setiawan & Pria   & 60 & Wiraswasta       & Cluster & 9.471615 & 1 & 5 & 1 & 1\\\\\n",
       "\t18 & CUST-018 & Nelly Halim    & Wanita & 63 & Ibu Rumah Tangga & Cluster & 5.340690 & 2 & 1 & 1 & 1\\\\\n",
       "\\end{tabular}\n"
      ],
      "text/markdown": [
       "\n",
       "A data.frame: 5 × 11\n",
       "\n",
       "| <!--/--> | Customer_ID &lt;chr&gt; | Nama.Pelanggan &lt;chr&gt; | Jenis.Kelamin &lt;chr&gt; | Umur &lt;int&gt; | Profesi &lt;chr&gt; | Tipe.Residen &lt;chr&gt; | NilaiBelanjaSetahun &lt;dbl&gt; | Jenis.Kelamin.1 &lt;int&gt; | Profesi.1 &lt;int&gt; | Tipe.Residen.1 &lt;int&gt; | cluster &lt;int&gt; |\n",
       "|---|---|---|---|---|---|---|---|---|---|---|---|\n",
       "| 1 | CUST-001 | Budi Anggara   | Pria   | 58 | Wiraswasta       | Sector  | 9.497927 | 1 | 5 | 2 | 1 |\n",
       "| 7 | CUST-007 | Cahyono, Agus  | Pria   | 64 | Wiraswasta       | Sector  | 9.837260 | 1 | 5 | 2 | 1 |\n",
       "| 13 | CUST-013 | Cahaya Putri   | Wanita | 64 | Wiraswasta       | Cluster | 9.333168 | 2 | 5 | 1 | 1 |\n",
       "| 14 | CUST-014 | Mario Setiawan | Pria   | 60 | Wiraswasta       | Cluster | 9.471615 | 1 | 5 | 1 | 1 |\n",
       "| 18 | CUST-018 | Nelly Halim    | Wanita | 63 | Ibu Rumah Tangga | Cluster | 5.340690 | 2 | 1 | 1 | 1 |\n",
       "\n"
      ],
      "text/plain": [
       "   Customer_ID Nama.Pelanggan Jenis.Kelamin Umur Profesi          Tipe.Residen\n",
       "1  CUST-001    Budi Anggara   Pria          58   Wiraswasta       Sector      \n",
       "7  CUST-007    Cahyono, Agus  Pria          64   Wiraswasta       Sector      \n",
       "13 CUST-013    Cahaya Putri   Wanita        64   Wiraswasta       Cluster     \n",
       "14 CUST-014    Mario Setiawan Pria          60   Wiraswasta       Cluster     \n",
       "18 CUST-018    Nelly Halim    Wanita        63   Ibu Rumah Tangga Cluster     \n",
       "   NilaiBelanjaSetahun Jenis.Kelamin.1 Profesi.1 Tipe.Residen.1 cluster\n",
       "1  9.497927            1               5         2              1      \n",
       "7  9.837260            1               5         2              1      \n",
       "13 9.333168            2               5         1              1      \n",
       "14 9.471615            1               5         1              1      \n",
       "18 5.340690            2               1         1              1      "
      ]
     },
     "metadata": {},
     "output_type": "display_data"
    },
    {
     "data": {
      "text/html": [
       "<table class=\"dataframe\">\n",
       "<caption>A data.frame: 12 × 11</caption>\n",
       "<thead>\n",
       "\t<tr><th></th><th scope=col>Customer_ID</th><th scope=col>Nama.Pelanggan</th><th scope=col>Jenis.Kelamin</th><th scope=col>Umur</th><th scope=col>Profesi</th><th scope=col>Tipe.Residen</th><th scope=col>NilaiBelanjaSetahun</th><th scope=col>Jenis.Kelamin.1</th><th scope=col>Profesi.1</th><th scope=col>Tipe.Residen.1</th><th scope=col>cluster</th></tr>\n",
       "\t<tr><th></th><th scope=col>&lt;chr&gt;</th><th scope=col>&lt;chr&gt;</th><th scope=col>&lt;chr&gt;</th><th scope=col>&lt;int&gt;</th><th scope=col>&lt;chr&gt;</th><th scope=col>&lt;chr&gt;</th><th scope=col>&lt;dbl&gt;</th><th scope=col>&lt;int&gt;</th><th scope=col>&lt;int&gt;</th><th scope=col>&lt;int&gt;</th><th scope=col>&lt;int&gt;</th></tr>\n",
       "</thead>\n",
       "<tbody>\n",
       "\t<tr><th scope=row>9</th><td>CUST-009</td><td>Elisabeth Suryadinata</td><td>Wanita</td><td>29</td><td>Professional    </td><td>Sector </td><td> 5.993218</td><td>2</td><td>4</td><td>2</td><td>2</td></tr>\n",
       "\t<tr><th scope=row>10</th><td>CUST-010</td><td>Mario Setiawan       </td><td>Pria  </td><td>33</td><td>Professional    </td><td>Cluster</td><td> 5.257448</td><td>1</td><td>4</td><td>1</td><td>2</td></tr>\n",
       "\t<tr><th scope=row>16</th><td>CUST-016</td><td>Bambang Rudi         </td><td>Pria  </td><td>35</td><td>Professional    </td><td>Cluster</td><td> 5.262521</td><td>1</td><td>4</td><td>1</td><td>2</td></tr>\n",
       "\t<tr><th scope=row>17</th><td>CUST-017</td><td>Yuni Sari            </td><td>Wanita</td><td>32</td><td>Ibu Rumah Tangga</td><td>Cluster</td><td> 5.677762</td><td>2</td><td>1</td><td>1</td><td>2</td></tr>\n",
       "\t<tr><th scope=row>19</th><td>CUST-019</td><td>Mega Pranoto         </td><td>Wanita</td><td>32</td><td>Wiraswasta      </td><td>Cluster</td><td>10.884508</td><td>2</td><td>5</td><td>1</td><td>2</td></tr>\n",
       "\t<tr><th scope=row>23</th><td>CUST-023</td><td>Denny Amiruddin      </td><td>Pria  </td><td>34</td><td>Professional    </td><td>Cluster</td><td> 5.239290</td><td>1</td><td>4</td><td>1</td><td>2</td></tr>\n",
       "\t<tr><th scope=row>25</th><td>CUST-025</td><td>Julia Setiawan       </td><td>Wanita</td><td>29</td><td>Wiraswasta      </td><td>Sector </td><td>10.721998</td><td>2</td><td>5</td><td>2</td><td>2</td></tr>\n",
       "\t<tr><th scope=row>27</th><td>CUST-027</td><td>Grace Mulyati        </td><td>Wanita</td><td>35</td><td>Wiraswasta      </td><td>Cluster</td><td> 9.114159</td><td>2</td><td>5</td><td>1</td><td>2</td></tr>\n",
       "\t<tr><th scope=row>36</th><td>CUST-036</td><td>Ni Made Suasti       </td><td>Wanita</td><td>30</td><td>Wiraswasta      </td><td>Cluster</td><td> 9.678994</td><td>2</td><td>5</td><td>1</td><td>2</td></tr>\n",
       "\t<tr><th scope=row>42</th><td>CUST-042</td><td>Yuliana Wati         </td><td>Wanita</td><td>26</td><td>Wiraswasta      </td><td>Cluster</td><td> 9.880607</td><td>2</td><td>5</td><td>1</td><td>2</td></tr>\n",
       "\t<tr><th scope=row>43</th><td>CUST-043</td><td>Yenna Sumadi         </td><td>Wanita</td><td>31</td><td>Professional    </td><td>Cluster</td><td> 5.268410</td><td>2</td><td>4</td><td>1</td><td>2</td></tr>\n",
       "\t<tr><th scope=row>49</th><td>CUST-049</td><td>Josephine Wahab      </td><td>Wanita</td><td>33</td><td>Ibu Rumah Tangga</td><td>Sector </td><td> 4.992585</td><td>2</td><td>1</td><td>2</td><td>2</td></tr>\n",
       "</tbody>\n",
       "</table>\n"
      ],
      "text/latex": [
       "A data.frame: 12 × 11\n",
       "\\begin{tabular}{r|lllllllllll}\n",
       "  & Customer\\_ID & Nama.Pelanggan & Jenis.Kelamin & Umur & Profesi & Tipe.Residen & NilaiBelanjaSetahun & Jenis.Kelamin.1 & Profesi.1 & Tipe.Residen.1 & cluster\\\\\n",
       "  & <chr> & <chr> & <chr> & <int> & <chr> & <chr> & <dbl> & <int> & <int> & <int> & <int>\\\\\n",
       "\\hline\n",
       "\t9 & CUST-009 & Elisabeth Suryadinata & Wanita & 29 & Professional     & Sector  &  5.993218 & 2 & 4 & 2 & 2\\\\\n",
       "\t10 & CUST-010 & Mario Setiawan        & Pria   & 33 & Professional     & Cluster &  5.257448 & 1 & 4 & 1 & 2\\\\\n",
       "\t16 & CUST-016 & Bambang Rudi          & Pria   & 35 & Professional     & Cluster &  5.262521 & 1 & 4 & 1 & 2\\\\\n",
       "\t17 & CUST-017 & Yuni Sari             & Wanita & 32 & Ibu Rumah Tangga & Cluster &  5.677762 & 2 & 1 & 1 & 2\\\\\n",
       "\t19 & CUST-019 & Mega Pranoto          & Wanita & 32 & Wiraswasta       & Cluster & 10.884508 & 2 & 5 & 1 & 2\\\\\n",
       "\t23 & CUST-023 & Denny Amiruddin       & Pria   & 34 & Professional     & Cluster &  5.239290 & 1 & 4 & 1 & 2\\\\\n",
       "\t25 & CUST-025 & Julia Setiawan        & Wanita & 29 & Wiraswasta       & Sector  & 10.721998 & 2 & 5 & 2 & 2\\\\\n",
       "\t27 & CUST-027 & Grace Mulyati         & Wanita & 35 & Wiraswasta       & Cluster &  9.114159 & 2 & 5 & 1 & 2\\\\\n",
       "\t36 & CUST-036 & Ni Made Suasti        & Wanita & 30 & Wiraswasta       & Cluster &  9.678994 & 2 & 5 & 1 & 2\\\\\n",
       "\t42 & CUST-042 & Yuliana Wati          & Wanita & 26 & Wiraswasta       & Cluster &  9.880607 & 2 & 5 & 1 & 2\\\\\n",
       "\t43 & CUST-043 & Yenna Sumadi          & Wanita & 31 & Professional     & Cluster &  5.268410 & 2 & 4 & 1 & 2\\\\\n",
       "\t49 & CUST-049 & Josephine Wahab       & Wanita & 33 & Ibu Rumah Tangga & Sector  &  4.992585 & 2 & 1 & 2 & 2\\\\\n",
       "\\end{tabular}\n"
      ],
      "text/markdown": [
       "\n",
       "A data.frame: 12 × 11\n",
       "\n",
       "| <!--/--> | Customer_ID &lt;chr&gt; | Nama.Pelanggan &lt;chr&gt; | Jenis.Kelamin &lt;chr&gt; | Umur &lt;int&gt; | Profesi &lt;chr&gt; | Tipe.Residen &lt;chr&gt; | NilaiBelanjaSetahun &lt;dbl&gt; | Jenis.Kelamin.1 &lt;int&gt; | Profesi.1 &lt;int&gt; | Tipe.Residen.1 &lt;int&gt; | cluster &lt;int&gt; |\n",
       "|---|---|---|---|---|---|---|---|---|---|---|---|\n",
       "| 9 | CUST-009 | Elisabeth Suryadinata | Wanita | 29 | Professional     | Sector  |  5.993218 | 2 | 4 | 2 | 2 |\n",
       "| 10 | CUST-010 | Mario Setiawan        | Pria   | 33 | Professional     | Cluster |  5.257448 | 1 | 4 | 1 | 2 |\n",
       "| 16 | CUST-016 | Bambang Rudi          | Pria   | 35 | Professional     | Cluster |  5.262521 | 1 | 4 | 1 | 2 |\n",
       "| 17 | CUST-017 | Yuni Sari             | Wanita | 32 | Ibu Rumah Tangga | Cluster |  5.677762 | 2 | 1 | 1 | 2 |\n",
       "| 19 | CUST-019 | Mega Pranoto          | Wanita | 32 | Wiraswasta       | Cluster | 10.884508 | 2 | 5 | 1 | 2 |\n",
       "| 23 | CUST-023 | Denny Amiruddin       | Pria   | 34 | Professional     | Cluster |  5.239290 | 1 | 4 | 1 | 2 |\n",
       "| 25 | CUST-025 | Julia Setiawan        | Wanita | 29 | Wiraswasta       | Sector  | 10.721998 | 2 | 5 | 2 | 2 |\n",
       "| 27 | CUST-027 | Grace Mulyati         | Wanita | 35 | Wiraswasta       | Cluster |  9.114159 | 2 | 5 | 1 | 2 |\n",
       "| 36 | CUST-036 | Ni Made Suasti        | Wanita | 30 | Wiraswasta       | Cluster |  9.678994 | 2 | 5 | 1 | 2 |\n",
       "| 42 | CUST-042 | Yuliana Wati          | Wanita | 26 | Wiraswasta       | Cluster |  9.880607 | 2 | 5 | 1 | 2 |\n",
       "| 43 | CUST-043 | Yenna Sumadi          | Wanita | 31 | Professional     | Cluster |  5.268410 | 2 | 4 | 1 | 2 |\n",
       "| 49 | CUST-049 | Josephine Wahab       | Wanita | 33 | Ibu Rumah Tangga | Sector  |  4.992585 | 2 | 1 | 2 | 2 |\n",
       "\n"
      ],
      "text/plain": [
       "   Customer_ID Nama.Pelanggan        Jenis.Kelamin Umur Profesi         \n",
       "9  CUST-009    Elisabeth Suryadinata Wanita        29   Professional    \n",
       "10 CUST-010    Mario Setiawan        Pria          33   Professional    \n",
       "16 CUST-016    Bambang Rudi          Pria          35   Professional    \n",
       "17 CUST-017    Yuni Sari             Wanita        32   Ibu Rumah Tangga\n",
       "19 CUST-019    Mega Pranoto          Wanita        32   Wiraswasta      \n",
       "23 CUST-023    Denny Amiruddin       Pria          34   Professional    \n",
       "25 CUST-025    Julia Setiawan        Wanita        29   Wiraswasta      \n",
       "27 CUST-027    Grace Mulyati         Wanita        35   Wiraswasta      \n",
       "36 CUST-036    Ni Made Suasti        Wanita        30   Wiraswasta      \n",
       "42 CUST-042    Yuliana Wati          Wanita        26   Wiraswasta      \n",
       "43 CUST-043    Yenna Sumadi          Wanita        31   Professional    \n",
       "49 CUST-049    Josephine Wahab       Wanita        33   Ibu Rumah Tangga\n",
       "   Tipe.Residen NilaiBelanjaSetahun Jenis.Kelamin.1 Profesi.1 Tipe.Residen.1\n",
       "9  Sector        5.993218           2               4         2             \n",
       "10 Cluster       5.257448           1               4         1             \n",
       "16 Cluster       5.262521           1               4         1             \n",
       "17 Cluster       5.677762           2               1         1             \n",
       "19 Cluster      10.884508           2               5         1             \n",
       "23 Cluster       5.239290           1               4         1             \n",
       "25 Sector       10.721998           2               5         2             \n",
       "27 Cluster       9.114159           2               5         1             \n",
       "36 Cluster       9.678994           2               5         1             \n",
       "42 Cluster       9.880607           2               5         1             \n",
       "43 Cluster       5.268410           2               4         1             \n",
       "49 Sector        4.992585           2               1         2             \n",
       "   cluster\n",
       "9  2      \n",
       "10 2      \n",
       "16 2      \n",
       "17 2      \n",
       "19 2      \n",
       "23 2      \n",
       "25 2      \n",
       "27 2      \n",
       "36 2      \n",
       "42 2      \n",
       "43 2      \n",
       "49 2      "
      ]
     },
     "metadata": {},
     "output_type": "display_data"
    },
    {
     "data": {
      "text/html": [
       "<table class=\"dataframe\">\n",
       "<caption>A data.frame: 14 × 11</caption>\n",
       "<thead>\n",
       "\t<tr><th></th><th scope=col>Customer_ID</th><th scope=col>Nama.Pelanggan</th><th scope=col>Jenis.Kelamin</th><th scope=col>Umur</th><th scope=col>Profesi</th><th scope=col>Tipe.Residen</th><th scope=col>NilaiBelanjaSetahun</th><th scope=col>Jenis.Kelamin.1</th><th scope=col>Profesi.1</th><th scope=col>Tipe.Residen.1</th><th scope=col>cluster</th></tr>\n",
       "\t<tr><th></th><th scope=col>&lt;chr&gt;</th><th scope=col>&lt;chr&gt;</th><th scope=col>&lt;chr&gt;</th><th scope=col>&lt;int&gt;</th><th scope=col>&lt;chr&gt;</th><th scope=col>&lt;chr&gt;</th><th scope=col>&lt;dbl&gt;</th><th scope=col>&lt;int&gt;</th><th scope=col>&lt;int&gt;</th><th scope=col>&lt;int&gt;</th><th scope=col>&lt;int&gt;</th></tr>\n",
       "</thead>\n",
       "<tbody>\n",
       "\t<tr><th scope=row>2</th><td>CUST-002</td><td>Shirley Ratuwati</td><td>Wanita</td><td>14</td><td>Pelajar         </td><td>Cluster</td><td> 2.722700</td><td>2</td><td>3</td><td>1</td><td>3</td></tr>\n",
       "\t<tr><th scope=row>6</th><td>CUST-006</td><td>Rosalina Kurnia </td><td>Wanita</td><td>24</td><td>Professional    </td><td>Cluster</td><td> 5.215541</td><td>2</td><td>4</td><td>1</td><td>3</td></tr>\n",
       "\t<tr><th scope=row>15</th><td>CUST-015</td><td>Shirley Ratuwati</td><td>Wanita</td><td>20</td><td>Wiraswasta      </td><td>Cluster</td><td>10.365668</td><td>2</td><td>5</td><td>1</td><td>3</td></tr>\n",
       "\t<tr><th scope=row>20</th><td>CUST-020</td><td>Irene Novianto  </td><td>Wanita</td><td>16</td><td>Pelajar         </td><td>Sector </td><td> 2.896845</td><td>2</td><td>3</td><td>2</td><td>3</td></tr>\n",
       "\t<tr><th scope=row>31</th><td>CUST-031</td><td>Eviana Handry   </td><td>Wanita</td><td>19</td><td>Mahasiswa       </td><td>Cluster</td><td> 3.042773</td><td>2</td><td>2</td><td>1</td><td>3</td></tr>\n",
       "\t<tr><th scope=row>33</th><td>CUST-033</td><td>Cecilia Kusnadi </td><td>Wanita</td><td>19</td><td>Mahasiswa       </td><td>Cluster</td><td> 3.047926</td><td>2</td><td>2</td><td>1</td><td>3</td></tr>\n",
       "\t<tr><th scope=row>34</th><td>CUST-034</td><td>Deasy Arisandi  </td><td>Wanita</td><td>21</td><td>Wiraswasta      </td><td>Sector </td><td> 9.759822</td><td>2</td><td>5</td><td>2</td><td>3</td></tr>\n",
       "\t<tr><th scope=row>37</th><td>CUST-037</td><td>Felicia Tandiono</td><td>Wanita</td><td>25</td><td>Professional    </td><td>Sector </td><td> 5.972787</td><td>2</td><td>4</td><td>2</td><td>3</td></tr>\n",
       "\t<tr><th scope=row>39</th><td>CUST-039</td><td>Gina Hidayat    </td><td>Wanita</td><td>20</td><td>Professional    </td><td>Cluster</td><td> 5.257775</td><td>2</td><td>4</td><td>1</td><td>3</td></tr>\n",
       "\t<tr><th scope=row>40</th><td>CUST-040</td><td>Irene Darmawan  </td><td>Wanita</td><td>14</td><td>Pelajar         </td><td>Sector </td><td> 2.861855</td><td>2</td><td>3</td><td>2</td><td>3</td></tr>\n",
       "\t<tr><th scope=row>41</th><td>CUST-041</td><td>Shinta Aritonang</td><td>Wanita</td><td>24</td><td>Ibu Rumah Tangga</td><td>Cluster</td><td> 6.820976</td><td>2</td><td>1</td><td>1</td><td>3</td></tr>\n",
       "\t<tr><th scope=row>44</th><td>CUST-044</td><td>Anna            </td><td>Wanita</td><td>18</td><td>Wiraswasta      </td><td>Cluster</td><td> 9.339737</td><td>2</td><td>5</td><td>1</td><td>3</td></tr>\n",
       "\t<tr><th scope=row>45</th><td>CUST-045</td><td>Rismawati Juni  </td><td>Wanita</td><td>22</td><td>Professional    </td><td>Cluster</td><td> 5.211041</td><td>2</td><td>4</td><td>1</td><td>3</td></tr>\n",
       "\t<tr><th scope=row>46</th><td>CUST-046</td><td>Elfira Surya    </td><td>Wanita</td><td>25</td><td>Wiraswasta      </td><td>Sector </td><td>10.099807</td><td>2</td><td>5</td><td>2</td><td>3</td></tr>\n",
       "</tbody>\n",
       "</table>\n"
      ],
      "text/latex": [
       "A data.frame: 14 × 11\n",
       "\\begin{tabular}{r|lllllllllll}\n",
       "  & Customer\\_ID & Nama.Pelanggan & Jenis.Kelamin & Umur & Profesi & Tipe.Residen & NilaiBelanjaSetahun & Jenis.Kelamin.1 & Profesi.1 & Tipe.Residen.1 & cluster\\\\\n",
       "  & <chr> & <chr> & <chr> & <int> & <chr> & <chr> & <dbl> & <int> & <int> & <int> & <int>\\\\\n",
       "\\hline\n",
       "\t2 & CUST-002 & Shirley Ratuwati & Wanita & 14 & Pelajar          & Cluster &  2.722700 & 2 & 3 & 1 & 3\\\\\n",
       "\t6 & CUST-006 & Rosalina Kurnia  & Wanita & 24 & Professional     & Cluster &  5.215541 & 2 & 4 & 1 & 3\\\\\n",
       "\t15 & CUST-015 & Shirley Ratuwati & Wanita & 20 & Wiraswasta       & Cluster & 10.365668 & 2 & 5 & 1 & 3\\\\\n",
       "\t20 & CUST-020 & Irene Novianto   & Wanita & 16 & Pelajar          & Sector  &  2.896845 & 2 & 3 & 2 & 3\\\\\n",
       "\t31 & CUST-031 & Eviana Handry    & Wanita & 19 & Mahasiswa        & Cluster &  3.042773 & 2 & 2 & 1 & 3\\\\\n",
       "\t33 & CUST-033 & Cecilia Kusnadi  & Wanita & 19 & Mahasiswa        & Cluster &  3.047926 & 2 & 2 & 1 & 3\\\\\n",
       "\t34 & CUST-034 & Deasy Arisandi   & Wanita & 21 & Wiraswasta       & Sector  &  9.759822 & 2 & 5 & 2 & 3\\\\\n",
       "\t37 & CUST-037 & Felicia Tandiono & Wanita & 25 & Professional     & Sector  &  5.972787 & 2 & 4 & 2 & 3\\\\\n",
       "\t39 & CUST-039 & Gina Hidayat     & Wanita & 20 & Professional     & Cluster &  5.257775 & 2 & 4 & 1 & 3\\\\\n",
       "\t40 & CUST-040 & Irene Darmawan   & Wanita & 14 & Pelajar          & Sector  &  2.861855 & 2 & 3 & 2 & 3\\\\\n",
       "\t41 & CUST-041 & Shinta Aritonang & Wanita & 24 & Ibu Rumah Tangga & Cluster &  6.820976 & 2 & 1 & 1 & 3\\\\\n",
       "\t44 & CUST-044 & Anna             & Wanita & 18 & Wiraswasta       & Cluster &  9.339737 & 2 & 5 & 1 & 3\\\\\n",
       "\t45 & CUST-045 & Rismawati Juni   & Wanita & 22 & Professional     & Cluster &  5.211041 & 2 & 4 & 1 & 3\\\\\n",
       "\t46 & CUST-046 & Elfira Surya     & Wanita & 25 & Wiraswasta       & Sector  & 10.099807 & 2 & 5 & 2 & 3\\\\\n",
       "\\end{tabular}\n"
      ],
      "text/markdown": [
       "\n",
       "A data.frame: 14 × 11\n",
       "\n",
       "| <!--/--> | Customer_ID &lt;chr&gt; | Nama.Pelanggan &lt;chr&gt; | Jenis.Kelamin &lt;chr&gt; | Umur &lt;int&gt; | Profesi &lt;chr&gt; | Tipe.Residen &lt;chr&gt; | NilaiBelanjaSetahun &lt;dbl&gt; | Jenis.Kelamin.1 &lt;int&gt; | Profesi.1 &lt;int&gt; | Tipe.Residen.1 &lt;int&gt; | cluster &lt;int&gt; |\n",
       "|---|---|---|---|---|---|---|---|---|---|---|---|\n",
       "| 2 | CUST-002 | Shirley Ratuwati | Wanita | 14 | Pelajar          | Cluster |  2.722700 | 2 | 3 | 1 | 3 |\n",
       "| 6 | CUST-006 | Rosalina Kurnia  | Wanita | 24 | Professional     | Cluster |  5.215541 | 2 | 4 | 1 | 3 |\n",
       "| 15 | CUST-015 | Shirley Ratuwati | Wanita | 20 | Wiraswasta       | Cluster | 10.365668 | 2 | 5 | 1 | 3 |\n",
       "| 20 | CUST-020 | Irene Novianto   | Wanita | 16 | Pelajar          | Sector  |  2.896845 | 2 | 3 | 2 | 3 |\n",
       "| 31 | CUST-031 | Eviana Handry    | Wanita | 19 | Mahasiswa        | Cluster |  3.042773 | 2 | 2 | 1 | 3 |\n",
       "| 33 | CUST-033 | Cecilia Kusnadi  | Wanita | 19 | Mahasiswa        | Cluster |  3.047926 | 2 | 2 | 1 | 3 |\n",
       "| 34 | CUST-034 | Deasy Arisandi   | Wanita | 21 | Wiraswasta       | Sector  |  9.759822 | 2 | 5 | 2 | 3 |\n",
       "| 37 | CUST-037 | Felicia Tandiono | Wanita | 25 | Professional     | Sector  |  5.972787 | 2 | 4 | 2 | 3 |\n",
       "| 39 | CUST-039 | Gina Hidayat     | Wanita | 20 | Professional     | Cluster |  5.257775 | 2 | 4 | 1 | 3 |\n",
       "| 40 | CUST-040 | Irene Darmawan   | Wanita | 14 | Pelajar          | Sector  |  2.861855 | 2 | 3 | 2 | 3 |\n",
       "| 41 | CUST-041 | Shinta Aritonang | Wanita | 24 | Ibu Rumah Tangga | Cluster |  6.820976 | 2 | 1 | 1 | 3 |\n",
       "| 44 | CUST-044 | Anna             | Wanita | 18 | Wiraswasta       | Cluster |  9.339737 | 2 | 5 | 1 | 3 |\n",
       "| 45 | CUST-045 | Rismawati Juni   | Wanita | 22 | Professional     | Cluster |  5.211041 | 2 | 4 | 1 | 3 |\n",
       "| 46 | CUST-046 | Elfira Surya     | Wanita | 25 | Wiraswasta       | Sector  | 10.099807 | 2 | 5 | 2 | 3 |\n",
       "\n"
      ],
      "text/plain": [
       "   Customer_ID Nama.Pelanggan   Jenis.Kelamin Umur Profesi         \n",
       "2  CUST-002    Shirley Ratuwati Wanita        14   Pelajar         \n",
       "6  CUST-006    Rosalina Kurnia  Wanita        24   Professional    \n",
       "15 CUST-015    Shirley Ratuwati Wanita        20   Wiraswasta      \n",
       "20 CUST-020    Irene Novianto   Wanita        16   Pelajar         \n",
       "31 CUST-031    Eviana Handry    Wanita        19   Mahasiswa       \n",
       "33 CUST-033    Cecilia Kusnadi  Wanita        19   Mahasiswa       \n",
       "34 CUST-034    Deasy Arisandi   Wanita        21   Wiraswasta      \n",
       "37 CUST-037    Felicia Tandiono Wanita        25   Professional    \n",
       "39 CUST-039    Gina Hidayat     Wanita        20   Professional    \n",
       "40 CUST-040    Irene Darmawan   Wanita        14   Pelajar         \n",
       "41 CUST-041    Shinta Aritonang Wanita        24   Ibu Rumah Tangga\n",
       "44 CUST-044    Anna             Wanita        18   Wiraswasta      \n",
       "45 CUST-045    Rismawati Juni   Wanita        22   Professional    \n",
       "46 CUST-046    Elfira Surya     Wanita        25   Wiraswasta      \n",
       "   Tipe.Residen NilaiBelanjaSetahun Jenis.Kelamin.1 Profesi.1 Tipe.Residen.1\n",
       "2  Cluster       2.722700           2               3         1             \n",
       "6  Cluster       5.215541           2               4         1             \n",
       "15 Cluster      10.365668           2               5         1             \n",
       "20 Sector        2.896845           2               3         2             \n",
       "31 Cluster       3.042773           2               2         1             \n",
       "33 Cluster       3.047926           2               2         1             \n",
       "34 Sector        9.759822           2               5         2             \n",
       "37 Sector        5.972787           2               4         2             \n",
       "39 Cluster       5.257775           2               4         1             \n",
       "40 Sector        2.861855           2               3         2             \n",
       "41 Cluster       6.820976           2               1         1             \n",
       "44 Cluster       9.339737           2               5         1             \n",
       "45 Cluster       5.211041           2               4         1             \n",
       "46 Sector       10.099807           2               5         2             \n",
       "   cluster\n",
       "2  3      \n",
       "6  3      \n",
       "15 3      \n",
       "20 3      \n",
       "31 3      \n",
       "33 3      \n",
       "34 3      \n",
       "37 3      \n",
       "39 3      \n",
       "40 3      \n",
       "41 3      \n",
       "44 3      \n",
       "45 3      \n",
       "46 3      "
      ]
     },
     "metadata": {},
     "output_type": "display_data"
    },
    {
     "data": {
      "text/html": [
       "<table class=\"dataframe\">\n",
       "<caption>A data.frame: 9 × 11</caption>\n",
       "<thead>\n",
       "\t<tr><th></th><th scope=col>Customer_ID</th><th scope=col>Nama.Pelanggan</th><th scope=col>Jenis.Kelamin</th><th scope=col>Umur</th><th scope=col>Profesi</th><th scope=col>Tipe.Residen</th><th scope=col>NilaiBelanjaSetahun</th><th scope=col>Jenis.Kelamin.1</th><th scope=col>Profesi.1</th><th scope=col>Tipe.Residen.1</th><th scope=col>cluster</th></tr>\n",
       "\t<tr><th></th><th scope=col>&lt;chr&gt;</th><th scope=col>&lt;chr&gt;</th><th scope=col>&lt;chr&gt;</th><th scope=col>&lt;int&gt;</th><th scope=col>&lt;chr&gt;</th><th scope=col>&lt;chr&gt;</th><th scope=col>&lt;dbl&gt;</th><th scope=col>&lt;int&gt;</th><th scope=col>&lt;int&gt;</th><th scope=col>&lt;int&gt;</th><th scope=col>&lt;int&gt;</th></tr>\n",
       "</thead>\n",
       "<tbody>\n",
       "\t<tr><th scope=row>5</th><td>CUST-005</td><td>Ibu Sri Wahyuni, IR</td><td>Wanita</td><td>41</td><td>Wiraswasta      </td><td>Cluster</td><td>10.615206</td><td>2</td><td>5</td><td>1</td><td>4</td></tr>\n",
       "\t<tr><th scope=row>21</th><td>CUST-021</td><td>Lestari Fabianto   </td><td>Wanita</td><td>38</td><td>Wiraswasta      </td><td>Cluster</td><td> 9.222070</td><td>2</td><td>5</td><td>1</td><td>4</td></tr>\n",
       "\t<tr><th scope=row>24</th><td>CUST-024</td><td>Putri Ginting      </td><td>Wanita</td><td>39</td><td>Wiraswasta      </td><td>Cluster</td><td>10.259572</td><td>2</td><td>5</td><td>1</td><td>4</td></tr>\n",
       "\t<tr><th scope=row>28</th><td>CUST-028</td><td>Adeline Huang      </td><td>Wanita</td><td>40</td><td>Ibu Rumah Tangga</td><td>Cluster</td><td> 6.631680</td><td>2</td><td>1</td><td>1</td><td>4</td></tr>\n",
       "\t<tr><th scope=row>30</th><td>CUST-030</td><td>Rosita Saragih     </td><td>Wanita</td><td>46</td><td>Ibu Rumah Tangga</td><td>Sector </td><td> 5.020976</td><td>2</td><td>1</td><td>2</td><td>4</td></tr>\n",
       "\t<tr><th scope=row>32</th><td>CUST-032</td><td>Chintya Winarni    </td><td>Wanita</td><td>47</td><td>Wiraswasta      </td><td>Sector </td><td>10.663179</td><td>2</td><td>5</td><td>2</td><td>4</td></tr>\n",
       "\t<tr><th scope=row>35</th><td>CUST-035</td><td>Ida Ayu            </td><td>Wanita</td><td>39</td><td>Professional    </td><td>Sector </td><td> 5.962575</td><td>2</td><td>4</td><td>2</td><td>4</td></tr>\n",
       "\t<tr><th scope=row>38</th><td>CUST-038</td><td>Agatha Salim       </td><td>Wanita</td><td>46</td><td>Wiraswasta      </td><td>Sector </td><td>10.477127</td><td>2</td><td>5</td><td>2</td><td>4</td></tr>\n",
       "\t<tr><th scope=row>48</th><td>CUST-048</td><td>Maria Hutagalung   </td><td>Wanita</td><td>45</td><td>Wiraswasta      </td><td>Sector </td><td>10.390732</td><td>2</td><td>5</td><td>2</td><td>4</td></tr>\n",
       "</tbody>\n",
       "</table>\n"
      ],
      "text/latex": [
       "A data.frame: 9 × 11\n",
       "\\begin{tabular}{r|lllllllllll}\n",
       "  & Customer\\_ID & Nama.Pelanggan & Jenis.Kelamin & Umur & Profesi & Tipe.Residen & NilaiBelanjaSetahun & Jenis.Kelamin.1 & Profesi.1 & Tipe.Residen.1 & cluster\\\\\n",
       "  & <chr> & <chr> & <chr> & <int> & <chr> & <chr> & <dbl> & <int> & <int> & <int> & <int>\\\\\n",
       "\\hline\n",
       "\t5 & CUST-005 & Ibu Sri Wahyuni, IR & Wanita & 41 & Wiraswasta       & Cluster & 10.615206 & 2 & 5 & 1 & 4\\\\\n",
       "\t21 & CUST-021 & Lestari Fabianto    & Wanita & 38 & Wiraswasta       & Cluster &  9.222070 & 2 & 5 & 1 & 4\\\\\n",
       "\t24 & CUST-024 & Putri Ginting       & Wanita & 39 & Wiraswasta       & Cluster & 10.259572 & 2 & 5 & 1 & 4\\\\\n",
       "\t28 & CUST-028 & Adeline Huang       & Wanita & 40 & Ibu Rumah Tangga & Cluster &  6.631680 & 2 & 1 & 1 & 4\\\\\n",
       "\t30 & CUST-030 & Rosita Saragih      & Wanita & 46 & Ibu Rumah Tangga & Sector  &  5.020976 & 2 & 1 & 2 & 4\\\\\n",
       "\t32 & CUST-032 & Chintya Winarni     & Wanita & 47 & Wiraswasta       & Sector  & 10.663179 & 2 & 5 & 2 & 4\\\\\n",
       "\t35 & CUST-035 & Ida Ayu             & Wanita & 39 & Professional     & Sector  &  5.962575 & 2 & 4 & 2 & 4\\\\\n",
       "\t38 & CUST-038 & Agatha Salim        & Wanita & 46 & Wiraswasta       & Sector  & 10.477127 & 2 & 5 & 2 & 4\\\\\n",
       "\t48 & CUST-048 & Maria Hutagalung    & Wanita & 45 & Wiraswasta       & Sector  & 10.390732 & 2 & 5 & 2 & 4\\\\\n",
       "\\end{tabular}\n"
      ],
      "text/markdown": [
       "\n",
       "A data.frame: 9 × 11\n",
       "\n",
       "| <!--/--> | Customer_ID &lt;chr&gt; | Nama.Pelanggan &lt;chr&gt; | Jenis.Kelamin &lt;chr&gt; | Umur &lt;int&gt; | Profesi &lt;chr&gt; | Tipe.Residen &lt;chr&gt; | NilaiBelanjaSetahun &lt;dbl&gt; | Jenis.Kelamin.1 &lt;int&gt; | Profesi.1 &lt;int&gt; | Tipe.Residen.1 &lt;int&gt; | cluster &lt;int&gt; |\n",
       "|---|---|---|---|---|---|---|---|---|---|---|---|\n",
       "| 5 | CUST-005 | Ibu Sri Wahyuni, IR | Wanita | 41 | Wiraswasta       | Cluster | 10.615206 | 2 | 5 | 1 | 4 |\n",
       "| 21 | CUST-021 | Lestari Fabianto    | Wanita | 38 | Wiraswasta       | Cluster |  9.222070 | 2 | 5 | 1 | 4 |\n",
       "| 24 | CUST-024 | Putri Ginting       | Wanita | 39 | Wiraswasta       | Cluster | 10.259572 | 2 | 5 | 1 | 4 |\n",
       "| 28 | CUST-028 | Adeline Huang       | Wanita | 40 | Ibu Rumah Tangga | Cluster |  6.631680 | 2 | 1 | 1 | 4 |\n",
       "| 30 | CUST-030 | Rosita Saragih      | Wanita | 46 | Ibu Rumah Tangga | Sector  |  5.020976 | 2 | 1 | 2 | 4 |\n",
       "| 32 | CUST-032 | Chintya Winarni     | Wanita | 47 | Wiraswasta       | Sector  | 10.663179 | 2 | 5 | 2 | 4 |\n",
       "| 35 | CUST-035 | Ida Ayu             | Wanita | 39 | Professional     | Sector  |  5.962575 | 2 | 4 | 2 | 4 |\n",
       "| 38 | CUST-038 | Agatha Salim        | Wanita | 46 | Wiraswasta       | Sector  | 10.477127 | 2 | 5 | 2 | 4 |\n",
       "| 48 | CUST-048 | Maria Hutagalung    | Wanita | 45 | Wiraswasta       | Sector  | 10.390732 | 2 | 5 | 2 | 4 |\n",
       "\n"
      ],
      "text/plain": [
       "   Customer_ID Nama.Pelanggan      Jenis.Kelamin Umur Profesi         \n",
       "5  CUST-005    Ibu Sri Wahyuni, IR Wanita        41   Wiraswasta      \n",
       "21 CUST-021    Lestari Fabianto    Wanita        38   Wiraswasta      \n",
       "24 CUST-024    Putri Ginting       Wanita        39   Wiraswasta      \n",
       "28 CUST-028    Adeline Huang       Wanita        40   Ibu Rumah Tangga\n",
       "30 CUST-030    Rosita Saragih      Wanita        46   Ibu Rumah Tangga\n",
       "32 CUST-032    Chintya Winarni     Wanita        47   Wiraswasta      \n",
       "35 CUST-035    Ida Ayu             Wanita        39   Professional    \n",
       "38 CUST-038    Agatha Salim        Wanita        46   Wiraswasta      \n",
       "48 CUST-048    Maria Hutagalung    Wanita        45   Wiraswasta      \n",
       "   Tipe.Residen NilaiBelanjaSetahun Jenis.Kelamin.1 Profesi.1 Tipe.Residen.1\n",
       "5  Cluster      10.615206           2               5         1             \n",
       "21 Cluster       9.222070           2               5         1             \n",
       "24 Cluster      10.259572           2               5         1             \n",
       "28 Cluster       6.631680           2               1         1             \n",
       "30 Sector        5.020976           2               1         2             \n",
       "32 Sector       10.663179           2               5         2             \n",
       "35 Sector        5.962575           2               4         2             \n",
       "38 Sector       10.477127           2               5         2             \n",
       "48 Sector       10.390732           2               5         2             \n",
       "   cluster\n",
       "5  4      \n",
       "21 4      \n",
       "24 4      \n",
       "28 4      \n",
       "30 4      \n",
       "32 4      \n",
       "35 4      \n",
       "38 4      \n",
       "48 4      "
      ]
     },
     "metadata": {},
     "output_type": "display_data"
    },
    {
     "data": {
      "text/html": [
       "<table class=\"dataframe\">\n",
       "<caption>A data.frame: 10 × 11</caption>\n",
       "<thead>\n",
       "\t<tr><th></th><th scope=col>Customer_ID</th><th scope=col>Nama.Pelanggan</th><th scope=col>Jenis.Kelamin</th><th scope=col>Umur</th><th scope=col>Profesi</th><th scope=col>Tipe.Residen</th><th scope=col>NilaiBelanjaSetahun</th><th scope=col>Jenis.Kelamin.1</th><th scope=col>Profesi.1</th><th scope=col>Tipe.Residen.1</th><th scope=col>cluster</th></tr>\n",
       "\t<tr><th></th><th scope=col>&lt;chr&gt;</th><th scope=col>&lt;chr&gt;</th><th scope=col>&lt;chr&gt;</th><th scope=col>&lt;int&gt;</th><th scope=col>&lt;chr&gt;</th><th scope=col>&lt;chr&gt;</th><th scope=col>&lt;dbl&gt;</th><th scope=col>&lt;int&gt;</th><th scope=col>&lt;int&gt;</th><th scope=col>&lt;int&gt;</th><th scope=col>&lt;int&gt;</th></tr>\n",
       "</thead>\n",
       "<tbody>\n",
       "\t<tr><th scope=row>3</th><td>CUST-003</td><td>Agus Cahyono     </td><td>Pria  </td><td>48</td><td>Professional    </td><td>Cluster</td><td> 5.286429</td><td>1</td><td>4</td><td>1</td><td>5</td></tr>\n",
       "\t<tr><th scope=row>4</th><td>CUST-004</td><td>Antonius Winarta </td><td>Pria  </td><td>53</td><td>Professional    </td><td>Cluster</td><td> 5.204498</td><td>1</td><td>4</td><td>1</td><td>5</td></tr>\n",
       "\t<tr><th scope=row>8</th><td>CUST-008</td><td>Danang Santosa   </td><td>Pria  </td><td>52</td><td>Professional    </td><td>Cluster</td><td> 5.223569</td><td>1</td><td>4</td><td>1</td><td>5</td></tr>\n",
       "\t<tr><th scope=row>11</th><td>CUST-011</td><td>Maria Suryawan   </td><td>Wanita</td><td>50</td><td>Professional    </td><td>Sector </td><td> 5.987367</td><td>2</td><td>4</td><td>2</td><td>5</td></tr>\n",
       "\t<tr><th scope=row>12</th><td>CUST-012</td><td>Erliana Widjaja  </td><td>Wanita</td><td>49</td><td>Professional    </td><td>Sector </td><td> 5.941914</td><td>2</td><td>4</td><td>2</td><td>5</td></tr>\n",
       "\t<tr><th scope=row>22</th><td>CUST-022</td><td>Novita Purba     </td><td>Wanita</td><td>52</td><td>Professional    </td><td>Cluster</td><td> 5.298157</td><td>2</td><td>4</td><td>1</td><td>5</td></tr>\n",
       "\t<tr><th scope=row>26</th><td>CUST-026</td><td>Christine Winarto</td><td>Wanita</td><td>55</td><td>Professional    </td><td>Cluster</td><td> 5.269392</td><td>2</td><td>4</td><td>1</td><td>5</td></tr>\n",
       "\t<tr><th scope=row>29</th><td>CUST-029</td><td>Tia Hartanti     </td><td>Wanita</td><td>56</td><td>Professional    </td><td>Cluster</td><td> 5.271845</td><td>2</td><td>4</td><td>1</td><td>5</td></tr>\n",
       "\t<tr><th scope=row>47</th><td>CUST-047</td><td>Mira Kurnia      </td><td>Wanita</td><td>55</td><td>Ibu Rumah Tangga</td><td>Cluster</td><td> 6.130724</td><td>2</td><td>1</td><td>1</td><td>5</td></tr>\n",
       "\t<tr><th scope=row>50</th><td>CUST-050</td><td>Lianna Nugraha   </td><td>Wanita</td><td>55</td><td>Wiraswasta      </td><td>Sector </td><td>10.569316</td><td>2</td><td>5</td><td>2</td><td>5</td></tr>\n",
       "</tbody>\n",
       "</table>\n"
      ],
      "text/latex": [
       "A data.frame: 10 × 11\n",
       "\\begin{tabular}{r|lllllllllll}\n",
       "  & Customer\\_ID & Nama.Pelanggan & Jenis.Kelamin & Umur & Profesi & Tipe.Residen & NilaiBelanjaSetahun & Jenis.Kelamin.1 & Profesi.1 & Tipe.Residen.1 & cluster\\\\\n",
       "  & <chr> & <chr> & <chr> & <int> & <chr> & <chr> & <dbl> & <int> & <int> & <int> & <int>\\\\\n",
       "\\hline\n",
       "\t3 & CUST-003 & Agus Cahyono      & Pria   & 48 & Professional     & Cluster &  5.286429 & 1 & 4 & 1 & 5\\\\\n",
       "\t4 & CUST-004 & Antonius Winarta  & Pria   & 53 & Professional     & Cluster &  5.204498 & 1 & 4 & 1 & 5\\\\\n",
       "\t8 & CUST-008 & Danang Santosa    & Pria   & 52 & Professional     & Cluster &  5.223569 & 1 & 4 & 1 & 5\\\\\n",
       "\t11 & CUST-011 & Maria Suryawan    & Wanita & 50 & Professional     & Sector  &  5.987367 & 2 & 4 & 2 & 5\\\\\n",
       "\t12 & CUST-012 & Erliana Widjaja   & Wanita & 49 & Professional     & Sector  &  5.941914 & 2 & 4 & 2 & 5\\\\\n",
       "\t22 & CUST-022 & Novita Purba      & Wanita & 52 & Professional     & Cluster &  5.298157 & 2 & 4 & 1 & 5\\\\\n",
       "\t26 & CUST-026 & Christine Winarto & Wanita & 55 & Professional     & Cluster &  5.269392 & 2 & 4 & 1 & 5\\\\\n",
       "\t29 & CUST-029 & Tia Hartanti      & Wanita & 56 & Professional     & Cluster &  5.271845 & 2 & 4 & 1 & 5\\\\\n",
       "\t47 & CUST-047 & Mira Kurnia       & Wanita & 55 & Ibu Rumah Tangga & Cluster &  6.130724 & 2 & 1 & 1 & 5\\\\\n",
       "\t50 & CUST-050 & Lianna Nugraha    & Wanita & 55 & Wiraswasta       & Sector  & 10.569316 & 2 & 5 & 2 & 5\\\\\n",
       "\\end{tabular}\n"
      ],
      "text/markdown": [
       "\n",
       "A data.frame: 10 × 11\n",
       "\n",
       "| <!--/--> | Customer_ID &lt;chr&gt; | Nama.Pelanggan &lt;chr&gt; | Jenis.Kelamin &lt;chr&gt; | Umur &lt;int&gt; | Profesi &lt;chr&gt; | Tipe.Residen &lt;chr&gt; | NilaiBelanjaSetahun &lt;dbl&gt; | Jenis.Kelamin.1 &lt;int&gt; | Profesi.1 &lt;int&gt; | Tipe.Residen.1 &lt;int&gt; | cluster &lt;int&gt; |\n",
       "|---|---|---|---|---|---|---|---|---|---|---|---|\n",
       "| 3 | CUST-003 | Agus Cahyono      | Pria   | 48 | Professional     | Cluster |  5.286429 | 1 | 4 | 1 | 5 |\n",
       "| 4 | CUST-004 | Antonius Winarta  | Pria   | 53 | Professional     | Cluster |  5.204498 | 1 | 4 | 1 | 5 |\n",
       "| 8 | CUST-008 | Danang Santosa    | Pria   | 52 | Professional     | Cluster |  5.223569 | 1 | 4 | 1 | 5 |\n",
       "| 11 | CUST-011 | Maria Suryawan    | Wanita | 50 | Professional     | Sector  |  5.987367 | 2 | 4 | 2 | 5 |\n",
       "| 12 | CUST-012 | Erliana Widjaja   | Wanita | 49 | Professional     | Sector  |  5.941914 | 2 | 4 | 2 | 5 |\n",
       "| 22 | CUST-022 | Novita Purba      | Wanita | 52 | Professional     | Cluster |  5.298157 | 2 | 4 | 1 | 5 |\n",
       "| 26 | CUST-026 | Christine Winarto | Wanita | 55 | Professional     | Cluster |  5.269392 | 2 | 4 | 1 | 5 |\n",
       "| 29 | CUST-029 | Tia Hartanti      | Wanita | 56 | Professional     | Cluster |  5.271845 | 2 | 4 | 1 | 5 |\n",
       "| 47 | CUST-047 | Mira Kurnia       | Wanita | 55 | Ibu Rumah Tangga | Cluster |  6.130724 | 2 | 1 | 1 | 5 |\n",
       "| 50 | CUST-050 | Lianna Nugraha    | Wanita | 55 | Wiraswasta       | Sector  | 10.569316 | 2 | 5 | 2 | 5 |\n",
       "\n"
      ],
      "text/plain": [
       "   Customer_ID Nama.Pelanggan    Jenis.Kelamin Umur Profesi         \n",
       "3  CUST-003    Agus Cahyono      Pria          48   Professional    \n",
       "4  CUST-004    Antonius Winarta  Pria          53   Professional    \n",
       "8  CUST-008    Danang Santosa    Pria          52   Professional    \n",
       "11 CUST-011    Maria Suryawan    Wanita        50   Professional    \n",
       "12 CUST-012    Erliana Widjaja   Wanita        49   Professional    \n",
       "22 CUST-022    Novita Purba      Wanita        52   Professional    \n",
       "26 CUST-026    Christine Winarto Wanita        55   Professional    \n",
       "29 CUST-029    Tia Hartanti      Wanita        56   Professional    \n",
       "47 CUST-047    Mira Kurnia       Wanita        55   Ibu Rumah Tangga\n",
       "50 CUST-050    Lianna Nugraha    Wanita        55   Wiraswasta      \n",
       "   Tipe.Residen NilaiBelanjaSetahun Jenis.Kelamin.1 Profesi.1 Tipe.Residen.1\n",
       "3  Cluster       5.286429           1               4         1             \n",
       "4  Cluster       5.204498           1               4         1             \n",
       "8  Cluster       5.223569           1               4         1             \n",
       "11 Sector        5.987367           2               4         2             \n",
       "12 Sector        5.941914           2               4         2             \n",
       "22 Cluster       5.298157           2               4         1             \n",
       "26 Cluster       5.269392           2               4         1             \n",
       "29 Cluster       5.271845           2               4         1             \n",
       "47 Cluster       6.130724           2               1         1             \n",
       "50 Sector       10.569316           2               5         2             \n",
       "   cluster\n",
       "3  5      \n",
       "4  5      \n",
       "8  5      \n",
       "11 5      \n",
       "12 5      \n",
       "22 5      \n",
       "26 5      \n",
       "29 5      \n",
       "47 5      \n",
       "50 5      "
      ]
     },
     "metadata": {},
     "output_type": "display_data"
    }
   ],
   "source": [
    "#Bagian Data Preparation\n",
    "pelanggan <- read.csv(\"https://storage.googleapis.com/dqlab-dataset/customer_segments.txt\", sep=\"\\t\")\n",
    "pelanggan_matrix <- data.matrix(pelanggan[c(\"Jenis.Kelamin\", \"Profesi\", \"Tipe.Residen\")])\n",
    "pelanggan <- data.frame(pelanggan, pelanggan_matrix)\n",
    "Profesi <- unique(pelanggan[c(\"Profesi\",\"Profesi.1\")])\n",
    "Jenis.Kelamin <- unique(pelanggan[c(\"Jenis.Kelamin\",\"Jenis.Kelamin.1\")])\n",
    "Tipe.Profesi <- unique(pelanggan[c(\"Tipe.Residen\",\"Tipe.Residen.1\")])\n",
    "pelanggan$NilaiBelanjaSetahun <- pelanggan$NilaiBelanjaSetahun/1000000\n",
    "field_yang_digunakan = c(\"Jenis.Kelamin.1\", \"Umur\", \"Profesi.1\", \"Tipe.Residen.1\",\"NilaiBelanjaSetahun\")\n",
    "#Bagian K-Means\n",
    "set.seed(100)\n",
    "segmentasi <- kmeans(x=pelanggan[field_yang_digunakan], centers=5, nstart=25)\n",
    "pelanggan$cluster <- segmentasi$cluster\n",
    "#Analisa hasil\n",
    "#Melihat data cluster ke 1-5\n",
    "pelanggan[which(pelanggan$cluster == 1),]\n",
    "pelanggan[which(pelanggan$cluster == 2),]\n",
    "pelanggan[which(pelanggan$cluster == 3),]\n",
    "pelanggan[which(pelanggan$cluster == 4),]\n",
    "pelanggan[which(pelanggan$cluster == 5),]"
   ]
  },
  {
   "cell_type": "markdown",
   "id": "76ff917c",
   "metadata": {},
   "source": [
    "# Grafik Elbow Effect"
   ]
  },
  {
   "cell_type": "code",
   "execution_count": 14,
   "id": "693aaaad",
   "metadata": {},
   "outputs": [
    {
     "name": "stderr",
     "output_type": "stream",
     "text": [
      "Warning message:\n",
      "\"Continuous limits supplied to discrete scale.\n",
      "Did you mean `limits = factor(...)` or `scale_*_continuous()`?\"\n"
     ]
    },
    {
     "data": {
      "image/png": "[encoded data removed]",
      "text/plain": [
       "plot without title"
      ]
     },
     "metadata": {
      "image/png": {
       "height": 420,
       "width": 420
      }
     },
     "output_type": "display_data"
    }
   ],
   "source": [
    "library(ggplot2)\n",
    "\n",
    "#Bagian Data Preparation\n",
    "pelanggan <- read.csv(\"https://storage.googleapis.com/dqlab-dataset/customer_segments.txt\", sep=\"\\t\")\n",
    "pelanggan_matrix <- data.matrix(pelanggan[c(\"Jenis.Kelamin\", \"Profesi\", \"Tipe.Residen\")])\n",
    "pelanggan <- data.frame(pelanggan, pelanggan_matrix)\n",
    "Profesi <- unique(pelanggan[c(\"Profesi\",\"Profesi.1\")])\n",
    "Jenis.Kelamin <- unique(pelanggan[c(\"Jenis.Kelamin\",\"Jenis.Kelamin.1\")])\n",
    "Tipe.Profesi <- unique(pelanggan[c(\"Tipe.Residen\",\"Tipe.Residen.1\")])\n",
    "pelanggan$NilaiBelanjaSetahun <- pelanggan$NilaiBelanjaSetahun/1000000\n",
    "field_yang_digunakan = c(\"Jenis.Kelamin.1\", \"Umur\", \"Profesi.1\", \"Tipe.Residen.1\",\"NilaiBelanjaSetahun\")\n",
    "#Bagian K-Means\n",
    "set.seed(100)\n",
    "sse <- sapply(1:10, function(param_k){kmeans(pelanggan[field_yang_digunakan], param_k, nstart=25)$tot.withinss})\n",
    "\n",
    "jumlah_cluster_max <- 10\n",
    "ssdata = data.frame(cluster=c(1:jumlah_cluster_max),sse)\n",
    "ggplot(ssdata, aes(x=cluster,y=sse)) +\n",
    "geom_line(color=\"red\") + geom_point() +\n",
    "ylab(\"Within Cluster Sum of Squares\") + xlab(\"Jumlah Cluster\") +\n",
    "geom_text(aes(label=format(round(sse,2), nsmall=2)), hjust=-0.2, vjust=-0.5) + scale_x_discrete(limits=c(1:jumlah_cluster_max))"
   ]
  },
  {
   "cell_type": "markdown",
   "id": "9d6e9b97",
   "metadata": {},
   "source": [
    "# Clustering data pelanggan dengan K-Means"
   ]
  },
  {
   "cell_type": "code",
   "execution_count": 8,
   "id": "4104ed12",
   "metadata": {},
   "outputs": [],
   "source": [
    "#Membaca data csv dan dimasukkan ke variable pelanggan\n",
    "pelanggan <- read.csv(\"https://storage.googleapis.com/dqlab-dataset/customer_segments.txt\", sep=\"\\t\")\n",
    "pelanggan_matrix <- data.matrix(pelanggan[c(\"Jenis.Kelamin\", \"Profesi\", \"Tipe.Residen\")])\n",
    "pelanggan <- data.frame(pelanggan, pelanggan_matrix)\n",
    "pelanggan$NilaiBelanjaSetahun = pelanggan$NilaiBelanjaSetahun/1000000\n",
    "Profesi <- unique(pelanggan[c(\"Profesi\",\"Profesi.1\")])\n",
    "Jenis.Kelamin <- unique(pelanggan[c(\"Jenis.Kelamin\",\"Jenis.Kelamin.1\")])\n",
    "Tipe.Residen <- unique(pelanggan[c(\"Tipe.Residen\",\"Tipe.Residen.1\")])\n",
    "\n",
    "#Bagian K-Means\n",
    "set.seed(100)\n",
    "field_yang_digunakan = c(\"Jenis.Kelamin.1\", \"Umur\", \"Profesi.1\", \"Tipe.Residen.1\",\"NilaiBelanjaSetahun\")\n",
    "segmentasi <- kmeans(x=pelanggan[field_yang_digunakan], centers=5, nstart=25)\n",
    "Segmen.Pelanggan <- data.frame(cluster=c(1,2,3,4,5), Nama.Segmen=c(\"Silver Youth Gals\", \"Diamond Senior Member\", \"Gold Young Professional\", \"Diamond Professional\", \"Silver Mid Professional\"))\n",
    "\n",
    "Identitas.Cluster <- list(Profesi=Profesi, Jenis.Kelamin=Jenis.Kelamin, Tipe.Residen=Tipe.Residen, Segmentasi=segmentasi, Segmen.Pelanggan=Segmen.Pelanggan, field_yang_digunakan=field_yang_digunakan) \n",
    "saveRDS(Identitas.Cluster,\"cluster.rds\")"
   ]
  },
  {
   "cell_type": "code",
   "execution_count": 9,
   "id": "d92a78dd",
   "metadata": {},
   "outputs": [
    {
     "data": {
      "text/html": [
       "2"
      ],
      "text/latex": [
       "2"
      ],
      "text/markdown": [
       "2"
      ],
      "text/plain": [
       "[1] 2"
      ]
     },
     "metadata": {},
     "output_type": "display_data"
    },
    {
     "data": {
      "text/html": [
       "<table class=\"dataframe\">\n",
       "<caption>A data.frame: 1 × 2</caption>\n",
       "<thead>\n",
       "\t<tr><th></th><th scope=col>cluster</th><th scope=col>Nama.Segmen</th></tr>\n",
       "\t<tr><th></th><th scope=col>&lt;dbl&gt;</th><th scope=col>&lt;chr&gt;</th></tr>\n",
       "</thead>\n",
       "<tbody>\n",
       "\t<tr><th scope=row>2</th><td>2</td><td>Diamond Senior Member</td></tr>\n",
       "</tbody>\n",
       "</table>\n"
      ],
      "text/latex": [
       "A data.frame: 1 × 2\n",
       "\\begin{tabular}{r|ll}\n",
       "  & cluster & Nama.Segmen\\\\\n",
       "  & <dbl> & <chr>\\\\\n",
       "\\hline\n",
       "\t2 & 2 & Diamond Senior Member\\\\\n",
       "\\end{tabular}\n"
      ],
      "text/markdown": [
       "\n",
       "A data.frame: 1 × 2\n",
       "\n",
       "| <!--/--> | cluster &lt;dbl&gt; | Nama.Segmen &lt;chr&gt; |\n",
       "|---|---|---|\n",
       "| 2 | 2 | Diamond Senior Member |\n",
       "\n"
      ],
      "text/plain": [
       "  cluster Nama.Segmen          \n",
       "2 2       Diamond Senior Member"
      ]
     },
     "metadata": {},
     "output_type": "display_data"
    }
   ],
   "source": [
    "#membuat data baru\n",
    "databaru <- data.frame(Customer_ID=\"CUST-100\", Nama.Pelanggan=\"Rudi Wilamar\",Umur=32,Jenis.Kelamin=\"Wanita\",Profesi=\"Pelajar\",Tipe.Residen=\"Cluster\",NilaiBelanjaSetahun=3.5)\n",
    "\n",
    "Identitas.Cluster <- readRDS(file=\"cluster.rds\")\n",
    "\n",
    "databaru <- merge(databaru, Identitas.Cluster$Profesi)\n",
    "databaru <- merge(databaru, Identitas.Cluster$Jenis.Kelamin)\n",
    "databaru <- merge(databaru, Identitas.Cluster$Tipe.Residen)\n",
    "\n",
    "#menentukan data baru di cluster mana\n",
    "which.min(sapply( 1:5, function( x ) sum( ( databaru[Identitas.Cluster$field_yang_digunakan] - Identitas.Cluster$Segmentasi$centers[x,])^2 ) ))\n",
    "Identitas.Cluster$Segmen.Pelanggan[which.min(sapply( 1:5, function( x ) sum( ( databaru[Identitas.Cluster$field_yang_digunakan] - Identitas.Cluster$Segmentasi$centers[x,])^2 ) )),]"
   ]
  },
  {
   "cell_type": "code",
   "execution_count": null,
   "id": "64cf0c1d",
   "metadata": {},
   "outputs": [],
   "source": []
  }
 ],
 "metadata": {
  "kernelspec": {
   "display_name": "R",
   "language": "R",
   "name": "ir"
  },
  "language_info": {
   "codemirror_mode": "r",
   "file_extension": ".r",
   "mimetype": "text/x-r-source",
   "name": "R",
   "pygments_lexer": "r",
   "version": "4.2.0"
  }
 },
 "nbformat": 4,
 "nbformat_minor": 5
}
